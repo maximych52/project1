{
 "cells": [
  {
   "cell_type": "markdown",
   "id": "dbe697d7",
   "metadata": {},
   "source": [
    "# Готовим таблицу к работе"
   ]
  },
  {
   "cell_type": "code",
   "execution_count": 1,
   "id": "b8642fb2-34f4-4330-8309-153dd8b3987b",
   "metadata": {},
   "outputs": [
    {
     "ename": "FileNotFoundError",
     "evalue": "[Errno 2] No such file or directory: 'data/electric_vechicles.csv'",
     "output_type": "error",
     "traceback": [
      "\u001b[1;31m---------------------------------------------------------------------------\u001b[0m",
      "\u001b[1;31mFileNotFoundError\u001b[0m                         Traceback (most recent call last)",
      "\u001b[1;32m~\\AppData\\Local\\Temp\\ipykernel_1332\\1805250336.py\u001b[0m in \u001b[0;36m<cell line: 2>\u001b[1;34m()\u001b[0m\n\u001b[0;32m      1\u001b[0m \u001b[1;31m#Opens a researched dataset and splits it into strings\u001b[0m\u001b[1;33m\u001b[0m\u001b[1;33m\u001b[0m\u001b[0m\n\u001b[1;32m----> 2\u001b[1;33m \u001b[1;32mwith\u001b[0m \u001b[0mopen\u001b[0m\u001b[1;33m(\u001b[0m\u001b[1;34m'data/electric_vechicles.csv'\u001b[0m\u001b[1;33m,\u001b[0m \u001b[0mencoding\u001b[0m\u001b[1;33m=\u001b[0m\u001b[1;34m'utf-8'\u001b[0m\u001b[1;33m)\u001b[0m \u001b[1;32mas\u001b[0m \u001b[0mf\u001b[0m\u001b[1;33m:\u001b[0m\u001b[1;33m\u001b[0m\u001b[1;33m\u001b[0m\u001b[0m\n\u001b[0m\u001b[0;32m      3\u001b[0m     \u001b[0mvehicles\u001b[0m \u001b[1;33m=\u001b[0m \u001b[0mf\u001b[0m\u001b[1;33m.\u001b[0m\u001b[0mread\u001b[0m\u001b[1;33m(\u001b[0m\u001b[1;33m)\u001b[0m\u001b[1;33m.\u001b[0m\u001b[0msplit\u001b[0m\u001b[1;33m(\u001b[0m\u001b[1;34m'\\n'\u001b[0m\u001b[1;33m)\u001b[0m\u001b[1;33m\u001b[0m\u001b[1;33m\u001b[0m\u001b[0m\n\u001b[0;32m      4\u001b[0m \u001b[1;33m\u001b[0m\u001b[0m\n\u001b[0;32m      5\u001b[0m \u001b[1;31m#Finds headings\u001b[0m\u001b[1;33m\u001b[0m\u001b[1;33m\u001b[0m\u001b[0m\n",
      "\u001b[1;31mFileNotFoundError\u001b[0m: [Errno 2] No such file or directory: 'data/electric_vechicles.csv'"
     ]
    }
   ],
   "source": [
    "#Opens a researched dataset and splits it into strings\n",
    "with open('data/electric_vechicles.csv', encoding='utf-8') as f:\n",
    "    vehicles = f.read().split('\\n')\n",
    "\n",
    "#Finds headings \n",
    "Headings = vehicles[0].split(';')"
   ]
  },
  {
   "cell_type": "markdown",
   "id": "7db0498a",
   "metadata": {},
   "source": [
    "# Создаем функцию выводящую столбец "
   ]
  },
  {
   "cell_type": "code",
   "execution_count": null,
   "id": "5f95bd0e",
   "metadata": {},
   "outputs": [],
   "source": [
    "#Creates a list for values in a column\n",
    "Column = []\n",
    "def column(heading):\n",
    "    \"\"\" Prints a column by its name\n",
    "\n",
    "    index -- number of a column in the table\n",
    "    Data -- a list of properties of each car\n",
    "\n",
    "    returns a chosen column\n",
    "    \"\"\"\n",
    "    index = Headings.index(heading)\n",
    "    for i in range (1, len(vehicles)-1):\n",
    "        Data = vehicles[i].split(';')\n",
    "        Column.append(Data[index])\n",
    "    return Column\n",
    "column('Make')"
   ]
  },
  {
   "cell_type": "markdown",
   "id": "ac83ed39",
   "metadata": {},
   "source": [
    "# Ищем самую популярную марку"
   ]
  },
  {
   "cell_type": "code",
   "execution_count": 3,
   "id": "8f3137e1-c669-4b1a-829d-84a03a7947aa",
   "metadata": {},
   "outputs": [
    {
     "name": "stdout",
     "output_type": "stream",
     "text": [
      "Самая популярная марка - TESLA\n"
     ]
    }
   ],
   "source": [
    "#Create a list for amount of similar makes\n",
    "Make_amount = []\n",
    "#Create a cycle that countts similar makes \n",
    "for element in Column:\n",
    "    amount = Column.count(element)\n",
    "    Make_amount.append(amount) \n",
    "#Search the most popular make\n",
    "Make_index_max = Make_amount.index(max(Make_amount))\n",
    "print(f\"Самая популярная марка - {Column[Make_index_max]}\") "
   ]
  },
  {
   "cell_type": "markdown",
   "id": "f347def8",
   "metadata": {},
   "source": [
    "# Ищем самую популярную модель самой популярной марки"
   ]
  },
  {
   "cell_type": "code",
   "execution_count": 5,
   "id": "0b9d9a2a-c991-4a72-af9f-7e98dc2a6f4e",
   "metadata": {},
   "outputs": [
    {
     "name": "stdout",
     "output_type": "stream",
     "text": [
      "Самая популярная модель самой популярной марки - MODEL Y\n"
     ]
    }
   ],
   "source": [
    "#Clear a list for adding new elemens (models)\n",
    "#Next part of code is similar to previous one\n",
    "Column = []\n",
    "column('Model')\n",
    "Model_amount = []\n",
    "for element in Column:\n",
    "    amount = Column.count(element)\n",
    "    Model_amount.append(amount) \n",
    "    Model_index_max = Model_amount.index(max(Model_amount))\n",
    "    #Check if he model belongs to the most popular make\n",
    "    if Model_index_max != Make_index_max:\n",
    "        #delete unsuitable values\n",
    "        del Make_amount[-1]\n",
    "print(f\"Самая популярная модель самой популярной марки - {Column[Model_index_max]}\") "
   ]
  }
 ],
 "metadata": {
  "kernelspec": {
   "display_name": "Python 3 (ipykernel)",
   "language": "python",
   "name": "python3"
  },
  "language_info": {
   "codemirror_mode": {
    "name": "ipython",
    "version": 3
   },
   "file_extension": ".py",
   "mimetype": "text/x-python",
   "name": "python",
   "nbconvert_exporter": "python",
   "pygments_lexer": "ipython3",
   "version": "3.9.16"
  }
 },
 "nbformat": 4,
 "nbformat_minor": 5
}
